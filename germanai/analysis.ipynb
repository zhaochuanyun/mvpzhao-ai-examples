{
 "cells": [
  {
   "cell_type": "code",
   "execution_count": 1,
   "metadata": {},
   "outputs": [],
   "source": [
    "import h5py\n",
    "import numpy as np\n",
    "import matplotlib.pyplot as plt\n",
    "from sklearn.metrics import classification_report\n",
    "import os\n",
    "import matplotlib.pyplot as plt"
   ]
  },
  {
   "cell_type": "code",
   "execution_count": 2,
   "metadata": {},
   "outputs": [],
   "source": [
    "### to change according to your machine\n",
    "base_dir = os.path.expanduser(\"~/data/tianchi-german/data\")\n",
    "\n",
    "path_training = os.path.join(base_dir, 'validation.h5')\n",
    "path_validation = os.path.join(base_dir, 'validation.h5')\n",
    "path_test = os.path.join(base_dir, 'round1_test_a_20181109.h5')\n",
    "\n",
    "fid_training = h5py.File(path_training, 'r')\n",
    "fid_validation = h5py.File(path_validation, 'r')\n",
    "fid_test = h5py.File(path_test, 'r')"
   ]
  },
  {
   "cell_type": "code",
   "execution_count": 3,
   "metadata": {},
   "outputs": [
    {
     "name": "stdout",
     "output_type": "stream",
     "text": [
      "['label', 'sen1', 'sen2']\n",
      "['label', 'sen1', 'sen2']\n",
      "['sen1', 'sen2']\n"
     ]
    }
   ],
   "source": [
    "## we can have a look at which keys are stored in the file\n",
    "## you will get the return [u'label', u'sen1', u'sen2']\n",
    "## sen1 and sen2 means the satellite images\n",
    "print(list(fid_training.keys()))\n",
    "print(list(fid_validation.keys()))\n",
    "print(list(fid_test.keys()))"
   ]
  },
  {
   "cell_type": "code",
   "execution_count": 4,
   "metadata": {},
   "outputs": [
    {
     "name": "stdout",
     "output_type": "stream",
     "text": [
      "training part\n",
      "(24119, 32, 32, 8)\n",
      "(24119, 32, 32, 10)\n",
      "(24119, 17)\n",
      "------------------------------------------------------------\n",
      "validation part\n",
      "(24119, 32, 32, 8)\n",
      "(24119, 32, 32, 10)\n",
      "(24119, 17)\n",
      "------------------------------------------------------------\n",
      "test part\n",
      "(4838, 32, 32, 8)\n",
      "(4838, 32, 32, 10)\n"
     ]
    }
   ],
   "source": [
    "### get s1 image channel data\n",
    "### it is not really loaded into memory. only the indexes have been loaded.\n",
    "print(\"training part\")\n",
    "s1_training = fid_training['sen1']\n",
    "print(s1_training.shape)\n",
    "s2_training = fid_training['sen2']\n",
    "print(s2_training.shape)\n",
    "label_training = fid_training['label']\n",
    "print(label_training.shape)\n",
    "\n",
    "print(\"-\" * 60)\n",
    "print(\"validation part\")\n",
    "s1_validation = fid_validation['sen1']\n",
    "print(s1_validation.shape)\n",
    "s2_validation = fid_validation['sen2']\n",
    "print(s2_validation.shape)\n",
    "label_validation = fid_validation['label']\n",
    "print(label_validation.shape)\n",
    "\n",
    "print(\"-\" * 60)\n",
    "print(\"test part\")\n",
    "s1_test = fid_test['sen1']\n",
    "print(s1_test.shape)\n",
    "s2_test = fid_test['sen2']\n",
    "print(s2_test.shape)"
   ]
  },
  {
   "cell_type": "code",
   "execution_count": 5,
   "metadata": {},
   "outputs": [
    {
     "name": "stdout",
     "output_type": "stream",
     "text": [
      "label_training[0]:  [0. 0. 0. 0. 0. 0. 0. 0. 0. 0. 0. 0. 0. 0. 0. 0. 1.]\n"
     ]
    }
   ],
   "source": [
    "print(\"label_training[0]: \", label_training[0])"
   ]
  },
  {
   "cell_type": "code",
   "execution_count": 6,
   "metadata": {},
   "outputs": [
    {
     "data": {
      "image/png": "[encoded data removed]",
      "text/plain": [
       "<Figure size 432x288 with 1 Axes>"
      ]
     },
     "metadata": {},
     "output_type": "display_data"
    }
   ],
   "source": [
    "plt.imshow(s1_training[0, :, :, 0])\n",
    "plt.show()"
   ]
  },
  {
   "cell_type": "code",
   "execution_count": 7,
   "metadata": {},
   "outputs": [
    {
     "data": {
      "image/png": "[encoded data removed]",
      "text/plain": [
       "<Figure size 432x288 with 4 Axes>"
      ]
     },
     "metadata": {},
     "output_type": "display_data"
    }
   ],
   "source": [
    "## compute the quantity for each col\n",
    "label_qty = np.sum(label_training, axis=0)\n",
    "\n",
    "plt.plot(label_qty)\n",
    "\n",
    "plt.subplot(121)\n",
    "plt.imshow(10 * np.log10(s1_training[0, :, :, 4]), cmap=plt.cm.get_cmap('gray'))\n",
    "plt.colorbar()\n",
    "plt.title('Sentinel-1')\n",
    "\n",
    "plt.subplot(122)\n",
    "plt.imshow(s2_training[0, :, :, 1], cmap=plt.cm.get_cmap('gray'))\n",
    "plt.colorbar()\n",
    "plt.title('Sentinel-2')\n",
    "\n",
    "plt.show()"
   ]
  },
  {
   "cell_type": "code",
   "execution_count": 8,
   "metadata": {},
   "outputs": [
    {
     "name": "stdout",
     "output_type": "stream",
     "text": [
      "done 0/24119\n"
     ]
    },
    {
     "name": "stderr",
     "output_type": "stream",
     "text": [
      "/Users/mvpzhao/anaconda3/lib/python3.6/site-packages/sklearn/linear_model/stochastic_gradient.py:128: FutureWarning: max_iter and tol parameters have been added in <class 'sklearn.linear_model.stochastic_gradient.SGDClassifier'> in 0.19. If both are left unset, they default to max_iter=5 and tol=None. If tol is not None, max_iter defaults to max_iter=1000. From 0.21, default max_iter will be 1000, and default tol will be 1e-3.\n",
      "  \"and default tol will be 1e-3.\" % type(self), FutureWarning)\n"
     ]
    },
    {
     "name": "stdout",
     "output_type": "stream",
     "text": [
      "             precision    recall  f1-score   support\n",
      "\n",
      "          0       0.18      0.14      0.16       256\n",
      "          1       0.27      0.17      0.21      1254\n",
      "          2       0.12      0.31      0.17      2353\n",
      "          3       0.16      0.08      0.11       849\n",
      "          4       0.12      0.03      0.04       757\n",
      "          5       0.15      0.02      0.04      1906\n",
      "          6       0.10      0.01      0.01       474\n",
      "          7       0.29      0.60      0.39      3395\n",
      "          8       0.47      0.01      0.03      1914\n",
      "          9       0.19      0.09      0.12       860\n",
      "         10       0.66      0.67      0.67      2287\n",
      "         11       0.03      0.13      0.05       382\n",
      "         12       0.88      0.54      0.67      1202\n",
      "         13       0.58      0.25      0.35      2747\n",
      "         14       0.00      0.00      0.00       202\n",
      "         15       0.00      0.00      0.00       672\n",
      "         16       0.94      0.90      0.92      2609\n",
      "\n",
      "avg / total       0.41      0.35      0.34     24119\n",
      "\n"
     ]
    }
   ],
   "source": [
    "### simple classification example\n",
    "### Training part\n",
    "\n",
    "from sklearn.linear_model import SGDClassifier\n",
    "\n",
    "train_s1 = s1_training\n",
    "train_s2 = s2_training\n",
    "train_label = label_training\n",
    "clf = SGDClassifier()\n",
    "\n",
    "train_y = np.argmax(train_label, axis=1)\n",
    "classes = list(set(train_y))\n",
    "batch_size = 100000\n",
    "n_sampels = train_s1.shape[0]\n",
    "\n",
    "for i in range(0, n_sampels, batch_size):\n",
    "    ## this is an idea for batch training\n",
    "    ## you can relpace this loop for deep learning methods\n",
    "    if i % batch_size * 10 == 0:\n",
    "        print(\"done %d/%d\" % (i, n_sampels))\n",
    "    start_pos = i\n",
    "    end_pos = min(i + batch_size, n_sampels)\n",
    "    train_s1_batch = np.asarray(train_s1[start_pos:end_pos, :, :, :])\n",
    "    train_s2_batch = np.asarray(train_s2[start_pos:end_pos, :, :, :])\n",
    "    cur_batch_size = train_s2_batch.shape[0]\n",
    "    train_s1_batch = train_s1_batch.reshape((cur_batch_size, -1))\n",
    "    train_s2_batch = train_s2_batch.reshape((cur_batch_size, -1))\n",
    "    train_X_batch = np.hstack([train_s1_batch, train_s2_batch])\n",
    "    label_batch = train_y[start_pos:end_pos]\n",
    "    clf.partial_fit(train_X_batch, label_batch, classes=classes)\n",
    "\n",
    "### make a prediction on validation\n",
    "pred_y = []\n",
    "train_val_y = np.argmax(label_validation, axis=1)\n",
    "batch_size = 10000\n",
    "n_val_samples = s2_validation.shape[0]\n",
    "for i in range(0, n_val_samples, batch_size):\n",
    "    start_pos = i\n",
    "    end_pos = min(i + batch_size, n_val_samples)\n",
    "    val_s1_batch = np.asarray(s1_validation[start_pos:end_pos, :, :, :])\n",
    "    val_s2_batch = np.asarray(s2_validation[start_pos:end_pos, :, :, :])\n",
    "    cur_batch_size = val_s2_batch.shape[0]\n",
    "    val_s1_batch = val_s1_batch.reshape((cur_batch_size, -1))\n",
    "    val_s2_batch = val_s2_batch.reshape((cur_batch_size, -1))\n",
    "    val_X_batch = np.hstack([val_s1_batch, val_s2_batch])\n",
    "    tmp_pred_y = clf.predict(val_X_batch)\n",
    "    pred_y.append(tmp_pred_y)\n",
    "pred_y = np.hstack(pred_y)\n",
    "\n",
    "print(classification_report(train_val_y, pred_y))"
   ]
  },
  {
   "cell_type": "code",
   "execution_count": 9,
   "metadata": {},
   "outputs": [
    {
     "data": {
      "text/plain": [
       "(24119,)"
      ]
     },
     "execution_count": 9,
     "metadata": {},
     "output_type": "execute_result"
    }
   ],
   "source": [
    "pred_y.shape"
   ]
  }
 ],
 "metadata": {
  "kernelspec": {
   "display_name": "Python 3",
   "language": "python",
   "name": "python3"
  },
  "language_info": {
   "codemirror_mode": {
    "name": "ipython",
    "version": 3
   },
   "file_extension": ".py",
   "mimetype": "text/x-python",
   "name": "python",
   "nbconvert_exporter": "python",
   "pygments_lexer": "ipython3",
   "version": "3.6.4"
  }
 },
 "nbformat": 4,
 "nbformat_minor": 2
}
