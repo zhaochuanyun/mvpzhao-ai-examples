{
 "cells": [
  {
   "cell_type": "code",
   "execution_count": 1,
   "metadata": {},
   "outputs": [
    {
     "name": "stderr",
     "output_type": "stream",
     "text": [
      "Using TensorFlow backend.\n"
     ]
    }
   ],
   "source": [
    "import os\n",
    "import h5py\n",
    "import numpy as np\n",
    "import keras\n",
    "from keras import models\n",
    "from keras import layers\n",
    "from keras import optimizers\n",
    "import matplotlib.pyplot as plt"
   ]
  },
  {
   "cell_type": "code",
   "execution_count": 2,
   "metadata": {},
   "outputs": [
    {
     "name": "stdout",
     "output_type": "stream",
     "text": [
      "['label', 'sen1', 'sen2']\n",
      "['label', 'sen1', 'sen2']\n",
      "['sen1', 'sen2']\n",
      "------------------------------------------------------------\n",
      "training part\n",
      "(24119, 32, 32, 8)\n",
      "(24119, 32, 32, 10)\n",
      "(24119, 17)\n",
      "------------------------------------------------------------\n",
      "validation part\n",
      "(24119, 32, 32, 8)\n",
      "(24119, 32, 32, 10)\n",
      "(24119, 17)\n",
      "------------------------------------------------------------\n",
      "test part\n",
      "(4838, 32, 32, 8)\n",
      "(4838, 32, 32, 10)\n"
     ]
    }
   ],
   "source": [
    "base_dir = os.path.expanduser(\"~/data/tianchi-german/data\")\n",
    "\n",
    "path_training = os.path.join(base_dir, 'validation.h5')\n",
    "path_validation = os.path.join(base_dir, 'validation.h5')\n",
    "path_test = os.path.join(base_dir, 'round1_test_a_20181109.h5')\n",
    "\n",
    "fid_training = h5py.File(path_training, 'r')\n",
    "fid_validation = h5py.File(path_validation, 'r')\n",
    "fid_test = h5py.File(path_test, 'r')\n",
    "\n",
    "print(list(fid_training.keys()))\n",
    "print(list(fid_validation.keys()))\n",
    "print(list(fid_test.keys()))\n",
    "\n",
    "print(\"-\" * 60)\n",
    "print(\"training part\")\n",
    "s1_training = fid_training['sen1']\n",
    "print(s1_training.shape)\n",
    "s2_training = fid_training['sen2']\n",
    "print(s2_training.shape)\n",
    "label_training = fid_training['label']\n",
    "print(label_training.shape)\n",
    "\n",
    "print(\"-\" * 60)\n",
    "print(\"validation part\")\n",
    "s1_validation = fid_validation['sen1']\n",
    "print(s1_validation.shape)\n",
    "s2_validation = fid_validation['sen2']\n",
    "print(s2_validation.shape)\n",
    "label_validation = fid_validation['label']\n",
    "print(label_validation.shape)\n",
    "\n",
    "print(\"-\" * 60)\n",
    "print(\"test part\")\n",
    "s1_test = fid_test['sen1']\n",
    "print(s1_test.shape)\n",
    "s2_test = fid_test['sen2']\n",
    "print(s2_test.shape)"
   ]
  },
  {
   "cell_type": "code",
   "execution_count": 3,
   "metadata": {},
   "outputs": [],
   "source": [
    "s1_training = np.asarray(s1_training)\n",
    "s1_training = s1_training.reshape(s1_training.shape[0], -1)\n",
    "\n",
    "s2_training = np.asarray(s2_training)\n",
    "s2_training = s2_training.reshape(s2_training.shape[0], -1)"
   ]
  },
  {
   "cell_type": "code",
   "execution_count": 4,
   "metadata": {},
   "outputs": [
    {
     "name": "stdout",
     "output_type": "stream",
     "text": [
      "(24119, 18432)\n",
      "(24119, 17)\n"
     ]
    }
   ],
   "source": [
    "data_training = np.hstack((s1_training, s2_training))\n",
    "label_training = np.asarray(label_training)\n",
    "\n",
    "print(data_training.shape)\n",
    "print(label_training.shape)"
   ]
  },
  {
   "cell_type": "code",
   "execution_count": 8,
   "metadata": {},
   "outputs": [],
   "source": [
    "model = models.Sequential()\n",
    "model.add(layers.Dense(256, activation='relu', input_shape=(18432,)))\n",
    "model.add(layers.Dropout(0.5))\n",
    "model.add(layers.Dense(64, activation='relu'))\n",
    "model.add(layers.Dropout(0.5))\n",
    "model.add(layers.Dense(17, activation='softmax'))\n",
    "\n",
    "model.compile(optimizer='rmsprop', loss='categorical_crossentropy', metrics=['acc'])"
   ]
  },
  {
   "cell_type": "code",
   "execution_count": 9,
   "metadata": {
    "scrolled": true
   },
   "outputs": [
    {
     "name": "stdout",
     "output_type": "stream",
     "text": [
      "Train on 21707 samples, validate on 2412 samples\n",
      "Epoch 1/20\n",
      "21707/21707 [==============================] - 12s 569us/step - loss: 2.5771 - acc: 0.2495 - val_loss: 1.9404 - val_acc: 0.4067\n",
      "Epoch 2/20\n",
      "21707/21707 [==============================] - 12s 549us/step - loss: 1.9992 - acc: 0.3692 - val_loss: 1.8009 - val_acc: 0.4038\n",
      "Epoch 3/20\n",
      "21707/21707 [==============================] - 12s 546us/step - loss: 1.8312 - acc: 0.4157 - val_loss: 1.5841 - val_acc: 0.5104\n",
      "Epoch 4/20\n",
      "21707/21707 [==============================] - 12s 545us/step - loss: 1.7324 - acc: 0.4454 - val_loss: 1.4681 - val_acc: 0.5245\n",
      "Epoch 5/20\n",
      "21707/21707 [==============================] - 12s 541us/step - loss: 1.6579 - acc: 0.4585 - val_loss: 1.5221 - val_acc: 0.5257\n",
      "Epoch 6/20\n",
      "21707/21707 [==============================] - 12s 542us/step - loss: 1.6171 - acc: 0.4776 - val_loss: 1.4087 - val_acc: 0.5377\n",
      "Epoch 7/20\n",
      "21707/21707 [==============================] - 12s 547us/step - loss: 1.5760 - acc: 0.4835 - val_loss: 1.4108 - val_acc: 0.5021s - loss: 1.5870 -  - ETA: 2\n",
      "Epoch 8/20\n",
      "21707/21707 [==============================] - 12s 553us/step - loss: 1.5353 - acc: 0.4930 - val_loss: 1.3910 - val_acc: 0.5386\n",
      "Epoch 9/20\n",
      "21707/21707 [==============================] - 12s 545us/step - loss: 1.4935 - acc: 0.5032 - val_loss: 1.3351 - val_acc: 0.5514\n",
      "Epoch 10/20\n",
      "21707/21707 [==============================] - 12s 549us/step - loss: 1.4675 - acc: 0.5179 - val_loss: 1.3300 - val_acc: 0.5589\n",
      "Epoch 11/20\n",
      "21707/21707 [==============================] - 12s 553us/step - loss: 1.4327 - acc: 0.5255 - val_loss: 1.4284 - val_acc: 0.5547\n",
      "Epoch 12/20\n",
      "21707/21707 [==============================] - 12s 545us/step - loss: 1.4188 - acc: 0.5316 - val_loss: 1.3511 - val_acc: 0.5539\n",
      "Epoch 13/20\n",
      "21707/21707 [==============================] - 12s 564us/step - loss: 1.3825 - acc: 0.5390 - val_loss: 1.4202 - val_acc: 0.5344\n",
      "Epoch 14/20\n",
      "21707/21707 [==============================] - 14s 637us/step - loss: 1.3661 - acc: 0.5519 - val_loss: 1.3414 - val_acc: 0.5755\n",
      "Epoch 15/20\n",
      "21707/21707 [==============================] - 12s 571us/step - loss: 1.3459 - acc: 0.5512 - val_loss: 1.4485 - val_acc: 0.5585\n",
      "Epoch 16/20\n",
      "21707/21707 [==============================] - 12s 575us/step - loss: 1.3448 - acc: 0.5562 - val_loss: 1.3446 - val_acc: 0.5734\n",
      "Epoch 17/20\n",
      "21707/21707 [==============================] - 12s 541us/step - loss: 1.3282 - acc: 0.5605 - val_loss: 1.3714 - val_acc: 0.5593\n",
      "Epoch 18/20\n",
      "21707/21707 [==============================] - 12s 553us/step - loss: 1.3092 - acc: 0.5666 - val_loss: 1.4052 - val_acc: 0.5655\n",
      "Epoch 19/20\n",
      "21707/21707 [==============================] - 12s 549us/step - loss: 1.2991 - acc: 0.5738 - val_loss: 1.4393 - val_acc: 0.5634\n",
      "Epoch 20/20\n",
      "21707/21707 [==============================] - 12s 549us/step - loss: 1.2746 - acc: 0.5826 - val_loss: 1.4011 - val_acc: 0.5643\n"
     ]
    }
   ],
   "source": [
    "history = model.fit(data_training, label_training, epochs=20, batch_size=128, validation_split=0.1)"
   ]
  },
  {
   "cell_type": "code",
   "execution_count": 10,
   "metadata": {},
   "outputs": [
    {
     "data": {
      "image/png": "[encoded data removed]",
      "text/plain": [
       "<Figure size 432x288 with 1 Axes>"
      ]
     },
     "metadata": {},
     "output_type": "display_data"
    }
   ],
   "source": [
    "acc = history.history['acc']\n",
    "val_acc = history.history['val_acc']\n",
    "epochs = range(1, len(acc) + 1)\n",
    "plt.plot(epochs, acc, 'bo', label='Training acc')\n",
    "plt.plot(epochs, val_acc, 'b', label='Validation acc')\n",
    "plt.title('Training and validation accuracy')\n",
    "plt.xlabel('Epochs')\n",
    "plt.ylabel('Accuracy')\n",
    "plt.legend()\n",
    "plt.show()"
   ]
  },
  {
   "cell_type": "code",
   "execution_count": null,
   "metadata": {},
   "outputs": [],
   "source": []
  }
 ],
 "metadata": {
  "kernelspec": {
   "display_name": "Python 3",
   "language": "python",
   "name": "python3"
  },
  "language_info": {
   "codemirror_mode": {
    "name": "ipython",
    "version": 3
   },
   "file_extension": ".py",
   "mimetype": "text/x-python",
   "name": "python",
   "nbconvert_exporter": "python",
   "pygments_lexer": "ipython3",
   "version": "3.6.4"
  }
 },
 "nbformat": 4,
 "nbformat_minor": 2
}
