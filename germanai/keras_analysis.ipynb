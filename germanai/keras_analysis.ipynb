{
 "cells": [
  {
   "cell_type": "code",
   "execution_count": 1,
   "metadata": {},
   "outputs": [
    {
     "name": "stderr",
     "output_type": "stream",
     "text": [
      "Using TensorFlow backend.\n"
     ]
    }
   ],
   "source": [
    "import os\n",
    "os.environ[\"CUDA_VISIBLE_DEVICES\"] = \"0\"\n",
    "import h5py\n",
    "import numpy as np\n",
    "import keras\n",
    "from keras import models\n",
    "from keras import layers\n",
    "from keras import optimizers\n",
    "import matplotlib.pyplot as plt"
   ]
  },
  {
   "cell_type": "code",
   "execution_count": 2,
   "metadata": {},
   "outputs": [
    {
     "name": "stdout",
     "output_type": "stream",
     "text": [
      "['label', 'sen1', 'sen2']\n",
      "['label', 'sen1', 'sen2']\n",
      "['sen1', 'sen2']\n",
      "------------------------------------------------------------\n",
      "training part\n",
      "(24119, 32, 32, 8)\n",
      "(24119, 32, 32, 10)\n",
      "(24119, 17)\n",
      "------------------------------------------------------------\n",
      "validation part\n",
      "(24119, 32, 32, 8)\n",
      "(24119, 32, 32, 10)\n",
      "(24119, 17)\n",
      "------------------------------------------------------------\n",
      "test part\n",
      "(4838, 32, 32, 8)\n",
      "(4838, 32, 32, 10)\n"
     ]
    }
   ],
   "source": [
    "base_dir = os.path.expanduser(\"~/data/tianchi-german\")\n",
    "\n",
    "path_training = os.path.join(base_dir, 'validation.h5')\n",
    "path_validation = os.path.join(base_dir, 'validation.h5')\n",
    "path_test = os.path.join(base_dir, 'round1_test_a_20181109.h5')\n",
    "\n",
    "fid_training = h5py.File(path_training, 'r')\n",
    "fid_validation = h5py.File(path_validation, 'r')\n",
    "fid_test = h5py.File(path_test, 'r')\n",
    "\n",
    "print(list(fid_training.keys()))\n",
    "print(list(fid_validation.keys()))\n",
    "print(list(fid_test.keys()))\n",
    "\n",
    "print(\"-\" * 60)\n",
    "print(\"training part\")\n",
    "s1_training = fid_training['sen1']\n",
    "print(s1_training.shape)\n",
    "s2_training = fid_training['sen2']\n",
    "print(s2_training.shape)\n",
    "label_training = fid_training['label']\n",
    "print(label_training.shape)\n",
    "\n",
    "print(\"-\" * 60)\n",
    "print(\"validation part\")\n",
    "s1_validation = fid_validation['sen1']\n",
    "print(s1_validation.shape)\n",
    "s2_validation = fid_validation['sen2']\n",
    "print(s2_validation.shape)\n",
    "label_validation = fid_validation['label']\n",
    "print(label_validation.shape)\n",
    "\n",
    "print(\"-\" * 60)\n",
    "print(\"test part\")\n",
    "s1_test = fid_test['sen1']\n",
    "print(s1_test.shape)\n",
    "s2_test = fid_test['sen2']\n",
    "print(s2_test.shape)"
   ]
  },
  {
   "cell_type": "code",
   "execution_count": 3,
   "metadata": {},
   "outputs": [],
   "source": [
    "validation = np.concatenate((s1_validation, s2_validation), axis=3)"
   ]
  },
  {
   "cell_type": "code",
   "execution_count": 4,
   "metadata": {},
   "outputs": [
    {
     "data": {
      "text/plain": [
       "(24119, 32, 32, 18)"
      ]
     },
     "execution_count": 4,
     "metadata": {},
     "output_type": "execute_result"
    }
   ],
   "source": [
    "validation.shape"
   ]
  },
  {
   "cell_type": "code",
   "execution_count": 5,
   "metadata": {},
   "outputs": [],
   "source": [
    "s1_training = np.asarray(s1_training)\n",
    "s1_training = s1_training.reshape(s1_training.shape[0], -1)\n",
    "\n",
    "s2_training = np.asarray(s2_training)\n",
    "s2_training = s2_training.reshape(s2_training.shape[0], -1)"
   ]
  },
  {
   "cell_type": "code",
   "execution_count": 6,
   "metadata": {},
   "outputs": [
    {
     "name": "stdout",
     "output_type": "stream",
     "text": [
      "(24119, 18432)\n",
      "(24119, 17)\n"
     ]
    }
   ],
   "source": [
    "data_training = np.hstack((s1_training, s2_training))\n",
    "label_training = np.asarray(label_training)\n",
    "\n",
    "print(data_training.shape)\n",
    "print(label_training.shape)"
   ]
  },
  {
   "cell_type": "code",
   "execution_count": 7,
   "metadata": {},
   "outputs": [
    {
     "name": "stdout",
     "output_type": "stream",
     "text": [
      "WARNING:tensorflow:From /Users/mvpzhao/anaconda3/lib/python3.6/site-packages/keras/backend/tensorflow_backend.py:2880: calling reduce_sum (from tensorflow.python.ops.math_ops) with keep_dims is deprecated and will be removed in a future version.\n",
      "Instructions for updating:\n",
      "keep_dims is deprecated, use keepdims instead\n",
      "WARNING:tensorflow:From /Users/mvpzhao/anaconda3/lib/python3.6/site-packages/keras/backend/tensorflow_backend.py:1344: calling reduce_mean (from tensorflow.python.ops.math_ops) with keep_dims is deprecated and will be removed in a future version.\n",
      "Instructions for updating:\n",
      "keep_dims is deprecated, use keepdims instead\n"
     ]
    }
   ],
   "source": [
    "model = models.Sequential()\n",
    "model.add(layers.Dense(256, activation='relu', input_shape=(18432,)))\n",
    "model.add(layers.Dropout(0.5))\n",
    "model.add(layers.Dense(64, activation='relu'))\n",
    "model.add(layers.Dropout(0.5))\n",
    "model.add(layers.Dense(17, activation='softmax'))\n",
    "\n",
    "model.compile(optimizer='rmsprop', loss='categorical_crossentropy', metrics=['acc'])"
   ]
  },
  {
   "cell_type": "code",
   "execution_count": 8,
   "metadata": {
    "scrolled": true
   },
   "outputs": [
    {
     "name": "stdout",
     "output_type": "stream",
     "text": [
      "Train on 21707 samples, validate on 2412 samples\n",
      "Epoch 1/20\n",
      "21707/21707 [==============================] - 24s 1ms/step - loss: 2.5418 - acc: 0.2668 - val_loss: 1.9788 - val_acc: 0.3918\n",
      "Epoch 2/20\n",
      "21707/21707 [==============================] - 13s 618us/step - loss: 1.9928 - acc: 0.3782 - val_loss: 1.6533 - val_acc: 0.5120\n",
      "Epoch 3/20\n",
      "21707/21707 [==============================] - 13s 603us/step - loss: 1.8189 - acc: 0.4190 - val_loss: 1.5234 - val_acc: 0.5062\n",
      "Epoch 4/20\n",
      "21707/21707 [==============================] - 12s 556us/step - loss: 1.7210 - acc: 0.4430 - val_loss: 1.4747 - val_acc: 0.5315\n",
      "Epoch 5/20\n",
      "21707/21707 [==============================] - 12s 549us/step - loss: 1.6454 - acc: 0.4647 - val_loss: 1.4632 - val_acc: 0.5365\n",
      "Epoch 6/20\n",
      "21707/21707 [==============================] - 12s 542us/step - loss: 1.5922 - acc: 0.4821 - val_loss: 1.3952 - val_acc: 0.5489\n",
      "Epoch 7/20\n",
      "21707/21707 [==============================] - 12s 556us/step - loss: 1.5388 - acc: 0.4907 - val_loss: 1.4211 - val_acc: 0.5095\n",
      "Epoch 8/20\n",
      "21707/21707 [==============================] - 12s 558us/step - loss: 1.4970 - acc: 0.5046 - val_loss: 1.3325 - val_acc: 0.5626\n",
      "Epoch 9/20\n",
      "21707/21707 [==============================] - 12s 546us/step - loss: 1.4584 - acc: 0.5220 - val_loss: 1.3500 - val_acc: 0.5522\n",
      "Epoch 10/20\n",
      "21707/21707 [==============================] - 12s 552us/step - loss: 1.4441 - acc: 0.5261 - val_loss: 1.3384 - val_acc: 0.5361\n",
      "Epoch 11/20\n",
      "21707/21707 [==============================] - 12s 550us/step - loss: 1.4057 - acc: 0.5327 - val_loss: 1.3243 - val_acc: 0.5498\n",
      "Epoch 12/20\n",
      "21707/21707 [==============================] - 12s 540us/step - loss: 1.3927 - acc: 0.5388 - val_loss: 1.3485 - val_acc: 0.5692\n",
      "Epoch 13/20\n",
      "21707/21707 [==============================] - 12s 546us/step - loss: 1.3517 - acc: 0.5466 - val_loss: 1.3654 - val_acc: 0.5493\n",
      "Epoch 14/20\n",
      "21707/21707 [==============================] - 12s 546us/step - loss: 1.3409 - acc: 0.5528 - val_loss: 1.3879 - val_acc: 0.5597\n",
      "Epoch 15/20\n",
      "21707/21707 [==============================] - 12s 541us/step - loss: 1.3253 - acc: 0.5601 - val_loss: 1.3404 - val_acc: 0.5688\n",
      "Epoch 16/20\n",
      "21707/21707 [==============================] - 12s 540us/step - loss: 1.3085 - acc: 0.5656 - val_loss: 1.3622 - val_acc: 0.5701\n",
      "Epoch 17/20\n",
      "21707/21707 [==============================] - 12s 544us/step - loss: 1.2927 - acc: 0.5715 - val_loss: 1.3735 - val_acc: 0.5684\n",
      "Epoch 18/20\n",
      "21707/21707 [==============================] - 12s 545us/step - loss: 1.2657 - acc: 0.5793 - val_loss: 1.3547 - val_acc: 0.5659\n",
      "Epoch 19/20\n",
      "21707/21707 [==============================] - 12s 546us/step - loss: 1.2741 - acc: 0.5820 - val_loss: 1.3720 - val_acc: 0.5684\n",
      "Epoch 20/20\n",
      "21707/21707 [==============================] - 11s 529us/step - loss: 1.2493 - acc: 0.5901 - val_loss: 1.4328 - val_acc: 0.5585\n"
     ]
    }
   ],
   "source": [
    "history = model.fit(data_training, label_training, epochs=20, batch_size=128, validation_split=0.1)"
   ]
  },
  {
   "cell_type": "code",
   "execution_count": 9,
   "metadata": {},
   "outputs": [
    {
     "data": {
      "image/png": "[encoded data removed]",
      "text/plain": [
       "<Figure size 432x288 with 1 Axes>"
      ]
     },
     "metadata": {},
     "output_type": "display_data"
    }
   ],
   "source": [
    "acc = history.history['acc']\n",
    "val_acc = history.history['val_acc']\n",
    "epochs = range(1, len(acc) + 1)\n",
    "plt.plot(epochs, acc, 'bo', label='Training acc')\n",
    "plt.plot(epochs, val_acc, 'b', label='Validation acc')\n",
    "plt.title('Training and validation accuracy')\n",
    "plt.xlabel('Epochs')\n",
    "plt.ylabel('Accuracy')\n",
    "plt.legend()\n",
    "plt.show()"
   ]
  }
 ],
 "metadata": {
  "kernelspec": {
   "display_name": "Python 3",
   "language": "python",
   "name": "python3"
  },
  "language_info": {
   "codemirror_mode": {
    "name": "ipython",
    "version": 3
   },
   "file_extension": ".py",
   "mimetype": "text/x-python",
   "name": "python",
   "nbconvert_exporter": "python",
   "pygments_lexer": "ipython3",
   "version": "3.6.4"
  }
 },
 "nbformat": 4,
 "nbformat_minor": 2
}
