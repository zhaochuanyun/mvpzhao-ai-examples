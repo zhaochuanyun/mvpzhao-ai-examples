{
 "cells": [
  {
   "cell_type": "code",
   "execution_count": 1,
   "metadata": {},
   "outputs": [
    {
     "name": "stderr",
     "output_type": "stream",
     "text": [
      "Using TensorFlow backend.\n"
     ]
    }
   ],
   "source": [
    "import os\n",
    "import numpy as np\n",
    "import keras\n",
    "from keras import models\n",
    "from keras import layers\n",
    "from keras import optimizers\n",
    "from keras.preprocessing import image\n",
    "from keras_vggface.vggface import VGGFace\n",
    "from keras_vggface import utils\n",
    "from keras_vggface.vggface import VGGFace"
   ]
  },
  {
   "cell_type": "code",
   "execution_count": 2,
   "metadata": {},
   "outputs": [
    {
     "name": "stdout",
     "output_type": "stream",
     "text": [
      "WARNING:tensorflow:From /Users/mvpzhao/anaconda3/lib/python3.6/site-packages/keras/backend/tensorflow_backend.py:1259: calling reduce_prod (from tensorflow.python.ops.math_ops) with keep_dims is deprecated and will be removed in a future version.\n",
      "Instructions for updating:\n",
      "keep_dims is deprecated, use keepdims instead\n"
     ]
    }
   ],
   "source": [
    "vggface_model = VGGFace(\n",
    "    include_top=True,\n",
    "    input_shape=(224, 224, 3),\n",
    "    weights='vggface')"
   ]
  },
  {
   "cell_type": "code",
   "execution_count": 3,
   "metadata": {},
   "outputs": [],
   "source": [
    "#vggface_model.summary()"
   ]
  },
  {
   "cell_type": "code",
   "execution_count": 4,
   "metadata": {},
   "outputs": [
    {
     "name": "stdout",
     "output_type": "stream",
     "text": [
      "_________________________________________________________________\n",
      "Layer (type)                 Output Shape              Param #   \n",
      "=================================================================\n",
      "input_2 (InputLayer)         (None, 224, 224, 3)       0         \n",
      "_________________________________________________________________\n",
      "conv1_1 (Conv2D)             (None, 224, 224, 64)      1792      \n",
      "_________________________________________________________________\n",
      "conv1_2 (Conv2D)             (None, 224, 224, 64)      36928     \n",
      "_________________________________________________________________\n",
      "pool1 (MaxPooling2D)         (None, 112, 112, 64)      0         \n",
      "_________________________________________________________________\n",
      "conv2_1 (Conv2D)             (None, 112, 112, 128)     73856     \n",
      "_________________________________________________________________\n",
      "conv2_2 (Conv2D)             (None, 112, 112, 128)     147584    \n",
      "_________________________________________________________________\n",
      "pool2 (MaxPooling2D)         (None, 56, 56, 128)       0         \n",
      "_________________________________________________________________\n",
      "conv3_1 (Conv2D)             (None, 56, 56, 256)       295168    \n",
      "_________________________________________________________________\n",
      "conv3_2 (Conv2D)             (None, 56, 56, 256)       590080    \n",
      "_________________________________________________________________\n",
      "conv3_3 (Conv2D)             (None, 56, 56, 256)       590080    \n",
      "_________________________________________________________________\n",
      "pool3 (MaxPooling2D)         (None, 28, 28, 256)       0         \n",
      "_________________________________________________________________\n",
      "conv4_1 (Conv2D)             (None, 28, 28, 512)       1180160   \n",
      "_________________________________________________________________\n",
      "conv4_2 (Conv2D)             (None, 28, 28, 512)       2359808   \n",
      "_________________________________________________________________\n",
      "conv4_3 (Conv2D)             (None, 28, 28, 512)       2359808   \n",
      "_________________________________________________________________\n",
      "pool4 (MaxPooling2D)         (None, 14, 14, 512)       0         \n",
      "_________________________________________________________________\n",
      "conv5_1 (Conv2D)             (None, 14, 14, 512)       2359808   \n",
      "_________________________________________________________________\n",
      "conv5_2 (Conv2D)             (None, 14, 14, 512)       2359808   \n",
      "_________________________________________________________________\n",
      "conv5_3 (Conv2D)             (None, 14, 14, 512)       2359808   \n",
      "_________________________________________________________________\n",
      "pool5 (MaxPooling2D)         (None, 7, 7, 512)         0         \n",
      "=================================================================\n",
      "Total params: 14,714,688\n",
      "Trainable params: 14,714,688\n",
      "Non-trainable params: 0\n",
      "_________________________________________________________________\n"
     ]
    }
   ],
   "source": [
    "vggface_model = VGGFace(\n",
    "    include_top=False,\n",
    "    input_shape=(224, 224, 3),\n",
    "    weights='vggface')\n",
    "\n",
    "vggface_model.summary()"
   ]
  },
  {
   "cell_type": "code",
   "execution_count": 5,
   "metadata": {},
   "outputs": [],
   "source": [
    "custom_vggface_model = keras.models.Sequential()\n",
    "custom_vggface_model.add(vggface_model)\n",
    "custom_vggface_model.add(layers.Flatten())\n",
    "custom_vggface_model.add(layers.Dense(512, activation='relu', name='fc6'))\n",
    "custom_vggface_model.add(layers.Dense(512, activation='relu', name='fc7'))\n",
    "custom_vggface_model.add(layers.Dense(4, activation='softmax', name='fc8'))"
   ]
  },
  {
   "cell_type": "code",
   "execution_count": 6,
   "metadata": {},
   "outputs": [
    {
     "name": "stdout",
     "output_type": "stream",
     "text": [
      "_________________________________________________________________\n",
      "Layer (type)                 Output Shape              Param #   \n",
      "=================================================================\n",
      "vggface_vgg16 (Model)        (None, 7, 7, 512)         14714688  \n",
      "_________________________________________________________________\n",
      "flatten_1 (Flatten)          (None, 25088)             0         \n",
      "_________________________________________________________________\n",
      "fc6 (Dense)                  (None, 512)               12845568  \n",
      "_________________________________________________________________\n",
      "fc7 (Dense)                  (None, 512)               262656    \n",
      "_________________________________________________________________\n",
      "fc8 (Dense)                  (None, 4)                 2052      \n",
      "=================================================================\n",
      "Total params: 27,824,964\n",
      "Trainable params: 27,824,964\n",
      "Non-trainable params: 0\n",
      "_________________________________________________________________\n"
     ]
    }
   ],
   "source": [
    "custom_vggface_model.summary()"
   ]
  },
  {
   "cell_type": "code",
   "execution_count": 7,
   "metadata": {},
   "outputs": [
    {
     "name": "stdout",
     "output_type": "stream",
     "text": [
      "This is the number of trainable weights before freezing the conv base: 32\n"
     ]
    }
   ],
   "source": [
    "print('This is the number of trainable weights before freezing the conv base:', \n",
    "      len(custom_vggface_model.trainable_weights))"
   ]
  },
  {
   "cell_type": "code",
   "execution_count": 8,
   "metadata": {},
   "outputs": [],
   "source": [
    "vggface_model.trainable = False"
   ]
  },
  {
   "cell_type": "code",
   "execution_count": 9,
   "metadata": {},
   "outputs": [
    {
     "name": "stdout",
     "output_type": "stream",
     "text": [
      "This is the number of trainable weights after freezing the conv base: 6\n"
     ]
    }
   ],
   "source": [
    "print('This is the number of trainable weights after freezing the conv base:', \n",
    "      len(custom_vggface_model.trainable_weights))"
   ]
  },
  {
   "cell_type": "code",
   "execution_count": 10,
   "metadata": {},
   "outputs": [],
   "source": [
    "base_dir = '/Users/mvpzhao/data/vgg-face/faces_cut'\n",
    "\n",
    "train_dir = os.path.join(base_dir, 'train')\n",
    "validation_dir = os.path.join(base_dir, 'validation')\n",
    "test_dir = os.path.join(base_dir, 'test')"
   ]
  },
  {
   "cell_type": "code",
   "execution_count": 11,
   "metadata": {},
   "outputs": [
    {
     "name": "stdout",
     "output_type": "stream",
     "text": [
      "Found 36 images belonging to 4 classes.\n",
      "Found 16 images belonging to 4 classes.\n",
      "WARNING:tensorflow:From /Users/mvpzhao/anaconda3/lib/python3.6/site-packages/keras/backend/tensorflow_backend.py:2880: calling reduce_sum (from tensorflow.python.ops.math_ops) with keep_dims is deprecated and will be removed in a future version.\n",
      "Instructions for updating:\n",
      "keep_dims is deprecated, use keepdims instead\n",
      "WARNING:tensorflow:From /Users/mvpzhao/anaconda3/lib/python3.6/site-packages/keras/backend/tensorflow_backend.py:1344: calling reduce_mean (from tensorflow.python.ops.math_ops) with keep_dims is deprecated and will be removed in a future version.\n",
      "Instructions for updating:\n",
      "keep_dims is deprecated, use keepdims instead\n",
      "Epoch 1/30\n",
      "  2/100 [..............................] - ETA: 13:17 - loss: 1.3842 - acc: 0.3125 - val_loss: 0.0000e+00 - val_acc: 0.0000e+00Epoch 2/30\n",
      "  2/100 [..............................] - ETA: 10:11 - loss: 1.3575 - acc: 0.4062 - val_loss: 0.0000e+00 - val_acc: 0.0000e+00Epoch 3/30\n",
      "  2/100 [..............................] - ETA: 10:09 - loss: 1.3590 - acc: 0.3906 - val_loss: 0.0000e+00 - val_acc: 0.0000e+00Epoch 4/30\n",
      "  2/100 [..............................] - ETA: 10:32 - loss: 1.3489 - acc: 0.4062 - val_loss: 0.0000e+00 - val_acc: 0.0000e+00Epoch 5/30\n",
      "  2/100 [..............................] - ETA: 10:12 - loss: 1.3134 - acc: 0.6250 - val_loss: 0.0000e+00 - val_acc: 0.0000e+00Epoch 6/30\n",
      "  2/100 [..............................] - ETA: 10:12 - loss: 1.3489 - acc: 0.5781 - val_loss: 0.0000e+00 - val_acc: 0.0000e+00Epoch 7/30\n",
      "  2/100 [..............................] - ETA: 10:31 - loss: 1.2736 - acc: 0.7656 - val_loss: 0.0000e+00 - val_acc: 0.0000e+00Epoch 8/30\n",
      "  2/100 [..............................] - ETA: 10:27 - loss: 1.2902 - acc: 0.7031 - val_loss: 0.0000e+00 - val_acc: 0.0000e+00Epoch 9/30\n",
      "  2/100 [..............................] - ETA: 10:09 - loss: 1.2706 - acc: 0.7969 - val_loss: 0.0000e+00 - val_acc: 0.0000e+00Epoch 10/30\n",
      "  2/100 [..............................] - ETA: 9:58 - loss: 1.2914 - acc: 0.8438 - val_loss: 0.0000e+00 - val_acc: 0.0000e+00Epoch 11/30\n",
      "  2/100 [..............................] - ETA: 10:01 - loss: 1.2266 - acc: 0.8438 - val_loss: 0.0000e+00 - val_acc: 0.0000e+00Epoch 12/30\n",
      "  2/100 [..............................] - ETA: 10:24 - loss: 1.2804 - acc: 0.5938 - val_loss: 0.0000e+00 - val_acc: 0.0000e+00Epoch 13/30\n",
      "  2/100 [..............................] - ETA: 10:35 - loss: 1.2682 - acc: 0.8750 - val_loss: 0.0000e+00 - val_acc: 0.0000e+00Epoch 14/30\n",
      "  2/100 [..............................] - ETA: 10:46 - loss: 1.2470 - acc: 0.7500 - val_loss: 0.0000e+00 - val_acc: 0.0000e+00Epoch 15/30\n",
      "  2/100 [..............................] - ETA: 10:12 - loss: 1.2195 - acc: 0.7656 - val_loss: 0.0000e+00 - val_acc: 0.0000e+00Epoch 16/30\n",
      "  2/100 [..............................] - ETA: 10:20 - loss: 1.2796 - acc: 0.6406 - val_loss: 0.0000e+00 - val_acc: 0.0000e+00Epoch 17/30\n",
      "  2/100 [..............................] - ETA: 10:22 - loss: 1.2157 - acc: 0.8594 - val_loss: 0.0000e+00 - val_acc: 0.0000e+00Epoch 18/30\n",
      "  2/100 [..............................] - ETA: 10:11 - loss: 1.2018 - acc: 0.8281 - val_loss: 0.0000e+00 - val_acc: 0.0000e+00Epoch 19/30\n",
      "  2/100 [..............................] - ETA: 10:14 - loss: 1.1358 - acc: 0.7344 - val_loss: 0.0000e+00 - val_acc: 0.0000e+00Epoch 20/30\n",
      "  2/100 [..............................] - ETA: 10:00 - loss: 1.2079 - acc: 0.7656 - val_loss: 0.0000e+00 - val_acc: 0.0000e+00Epoch 21/30\n",
      "  2/100 [..............................] - ETA: 10:13 - loss: 1.1846 - acc: 0.7344 - val_loss: 0.0000e+00 - val_acc: 0.0000e+00Epoch 22/30\n",
      "  2/100 [..............................] - ETA: 10:23 - loss: 1.1264 - acc: 0.8594 - val_loss: 0.0000e+00 - val_acc: 0.0000e+00Epoch 23/30\n",
      "  2/100 [..............................] - ETA: 10:20 - loss: 1.1654 - acc: 0.6406 - val_loss: 0.0000e+00 - val_acc: 0.0000e+00Epoch 24/30\n",
      "  2/100 [..............................] - ETA: 10:11 - loss: 1.1547 - acc: 0.7344 - val_loss: 0.0000e+00 - val_acc: 0.0000e+00Epoch 25/30\n",
      "  2/100 [..............................] - ETA: 11:23 - loss: 1.2035 - acc: 0.6406 - val_loss: 0.0000e+00 - val_acc: 0.0000e+00Epoch 26/30\n",
      "  2/100 [..............................] - ETA: 10:49 - loss: 1.1506 - acc: 0.7656 - val_loss: 0.0000e+00 - val_acc: 0.0000e+00Epoch 27/30\n",
      "  2/100 [..............................] - ETA: 10:31 - loss: 1.2173 - acc: 0.5156 - val_loss: 0.0000e+00 - val_acc: 0.0000e+00Epoch 28/30\n",
      "  2/100 [..............................] - ETA: 10:27 - loss: 1.0288 - acc: 0.9062 - val_loss: 0.0000e+00 - val_acc: 0.0000e+00Epoch 29/30\n",
      "  2/100 [..............................] - ETA: 10:19 - loss: 1.0178 - acc: 0.8750 - val_loss: 0.0000e+00 - val_acc: 0.0000e+00Epoch 30/30\n",
      "  2/100 [..............................] - ETA: 10:12 - loss: 1.0978 - acc: 0.7969 - val_loss: 0.0000e+00 - val_acc: 0.0000e+00"
     ]
    }
   ],
   "source": [
    "from keras.preprocessing.image import ImageDataGenerator\n",
    "\n",
    "train_datagen = ImageDataGenerator(\n",
    "      rescale=1./255,\n",
    "      rotation_range=40,\n",
    "      width_shift_range=0.2,\n",
    "      height_shift_range=0.2,\n",
    "      shear_range=0.2,\n",
    "      zoom_range=0.2,\n",
    "      horizontal_flip=True,\n",
    "      fill_mode='nearest')\n",
    "\n",
    "# Note that the validation data should not be augmented!\n",
    "test_datagen = ImageDataGenerator(rescale=1./255)\n",
    "\n",
    "train_generator = train_datagen.flow_from_directory(\n",
    "        # This is the target directory\n",
    "        train_dir,\n",
    "        # All images will be resized to 224x224\n",
    "        target_size=(224, 224),\n",
    "        batch_size=32,\n",
    "        # Since we use binary_crossentropy loss, we need binary labels\n",
    "        class_mode='categorical')\n",
    "\n",
    "validation_generator = test_datagen.flow_from_directory(\n",
    "        validation_dir,\n",
    "        target_size=(224, 224),\n",
    "        batch_size=32,\n",
    "        class_mode='categorical')\n",
    "\n",
    "custom_vggface_model.compile(loss='categorical_crossentropy',\n",
    "              optimizer=optimizers.RMSprop(lr=2e-5),\n",
    "              metrics=['acc'])\n",
    "\n",
    "history = custom_vggface_model.fit_generator(\n",
    "      train_generator,\n",
    "      steps_per_epoch=100,\n",
    "      epochs=30,\n",
    "      validation_data=validation_generator,\n",
    "      validation_steps=50,\n",
    "      verbose=1)"
   ]
  },
  {
   "cell_type": "code",
   "execution_count": 21,
   "metadata": {},
   "outputs": [
    {
     "name": "stdout",
     "output_type": "stream",
     "text": [
      "Predicted: [[7.3508527e-29 0.0000000e+00 0.0000000e+00 1.0000000e+00]]\n"
     ]
    }
   ],
   "source": [
    "from keras.preprocessing import image\n",
    "from keras_vggface import utils\n",
    "\n",
    "img = image.load_img('/Users/mvpzhao/Downloads/cps.png', target_size=(224, 224))\n",
    "x = image.img_to_array(img)\n",
    "x = np.expand_dims(x, axis=0)\n",
    "x = utils.preprocess_input(x, version=1)\n",
    "\n",
    "preds = custom_vggface_model.predict(x)\n",
    "print('Predicted:', preds)"
   ]
  },
  {
   "cell_type": "code",
   "execution_count": null,
   "metadata": {},
   "outputs": [],
   "source": []
  }
 ],
 "metadata": {
  "kernelspec": {
   "display_name": "Python 3",
   "language": "python",
   "name": "python3"
  },
  "language_info": {
   "codemirror_mode": {
    "name": "ipython",
    "version": 3
   },
   "file_extension": ".py",
   "mimetype": "text/x-python",
   "name": "python",
   "nbconvert_exporter": "python",
   "pygments_lexer": "ipython3",
   "version": "3.6.4"
  }
 },
 "nbformat": 4,
 "nbformat_minor": 2
}
